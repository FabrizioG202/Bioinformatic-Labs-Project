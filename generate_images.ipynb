{
 "cells": [
  {
   "cell_type": "code",
   "execution_count": 1,
   "metadata": {},
   "outputs": [],
   "source": [
    "import pandas as pd"
   ]
  },
  {
   "cell_type": "code",
   "execution_count": 2,
   "metadata": {},
   "outputs": [],
   "source": [
    "PDBE_EVALUES_PATH = \"./data/evalues/pdbe.tsv\"\n",
    "FOLDSEEK_EVALUES_PATH = \"./data/evalues/foldseek.tsv\"\n",
    "DALI_EVALUES_PATH = \"./data/evalues/dali.tsv\"\n",
    "INTERSECTION_EVALUES_PATH = \"./data/evalues/intersection.tsv\"\n",
    "UNION_EVALUES_PATH = \"./data/evalues/union.tsv\""
   ]
  },
  {
   "cell_type": "code",
   "execution_count": 4,
   "metadata": {},
   "outputs": [],
   "source": [
    "# Open the evalues files in pandas dataframes\n",
    "pdb_evalues = pd.read_csv(PDBE_EVALUES_PATH, sep=\"\\t\")\n",
    "foldseek_evalues = pd.read_csv(FOLDSEEK_EVALUES_PATH, sep=\"\\t\")\n",
    "dali_evalues = pd.read_csv(DALI_EVALUES_PATH, sep=\"\\t\")\n",
    "intersection_evalues = pd.read_csv(INTERSECTION_EVALUES_PATH, sep=\"\\t\")\n",
    "union_evalues = pd.read_csv(UNION_EVALUES_PATH, sep=\"\\t\")"
   ]
  },
  {
   "cell_type": "code",
   "execution_count": 20,
   "metadata": {},
   "outputs": [
    {
     "data": {
      "application/vnd.plotly.v1+json": {
       "config": {
        "plotlyServerURL": "https://plot.ly"
       },
       "data": [
        {
         "mode": "lines",
         "name": "PDB (F1)",
         "type": "scatter",
         "x": [
          0.01,
          0.001,
          0.0001,
          0.00001,
          0.000001,
          1e-7,
          1e-8,
          1e-9,
          1e-10,
          1e-11,
          1e-12,
          1e-13,
          1e-14,
          1e-15,
          1e-16,
          1e-17,
          1e-18,
          1e-19
         ],
         "y": [
          0.9940439721999201,
          0.9985009693018279,
          0.9984964670389406,
          0.9984964670389406,
          0.9984964670389406,
          0.9954826049002543,
          0.9939722551154946,
          0.9939722551154946,
          0.9939722551154946,
          0.9924596123184878,
          0.9909446660085927,
          0.9894274056048157,
          0.9863858997846959,
          0.9833350085700476,
          0.9756661409763104,
          0.9679366558757693,
          0.9234594276327152,
          0.9037293591705975
         ]
        },
        {
         "line": {
          "dash": "dot"
         },
         "mode": "lines",
         "name": "PDB (MCC)",
         "type": "scatter",
         "x": [
          0.01,
          0.001,
          0.0001,
          0.00001,
          0.000001,
          1e-7,
          1e-8,
          1e-9,
          1e-10,
          1e-11,
          1e-12,
          1e-13,
          1e-14,
          1e-15,
          1e-16,
          1e-17,
          1e-18,
          1e-19
         ],
         "y": [
          0.9940298507462688,
          0.9985007496251874,
          0.9984962406015038,
          0.9984962406015038,
          0.9984962406015038,
          0.995475113122172,
          0.9939577039274924,
          0.9939577039274924,
          0.9939577039274924,
          0.9924357034795764,
          0.9909090909090909,
          0.9893778452200304,
          0.9863013698630138,
          0.983206106870229,
          0.9753846153846154,
          0.9674418604651164,
          0.920583468395462,
          0.8991735537190083
         ]
        },
        {
         "mode": "lines",
         "name": "Foldseek (F1)",
         "type": "scatter",
         "x": [
          0.01,
          0.001,
          0.0001,
          0.00001,
          0.000001,
          1e-7,
          1e-8,
          1e-9,
          1e-10,
          1e-11,
          1e-12,
          1e-13,
          1e-14,
          1e-15,
          1e-16,
          1e-17,
          1e-18,
          1e-19
         ],
         "y": [
          0.9984964670373091,
          1,
          0.9984919376318616,
          0.9984919376318616,
          0.9984919376318616,
          0.9954689755270392,
          0.9939540549954657,
          0.9939540549954657,
          0.9924368274823857,
          0.9909172823908738,
          0.9893954090426668,
          0.9863446344511584,
          0.9832844166213968,
          0.9802146671081324,
          0.9771352960774652,
          0.9647197497550879,
          0.9441971441002163,
          0.8967287107120684
         ]
        },
        {
         "line": {
          "dash": "dot"
         },
         "mode": "lines",
         "name": "Foldseek (MCC)",
         "type": "scatter",
         "x": [
          0.01,
          0.001,
          0.0001,
          0.00001,
          0.000001,
          1e-7,
          1e-8,
          1e-9,
          1e-10,
          1e-11,
          1e-12,
          1e-13,
          1e-14,
          1e-15,
          1e-16,
          1e-17,
          1e-18,
          1e-19
         ],
         "y": [
          0.9984962406015038,
          1,
          0.9984917043740572,
          0.9984917043740572,
          0.9984917043740572,
          0.995461422087746,
          0.993939393939394,
          0.993939393939394,
          0.992412746585736,
          0.9908814589665652,
          0.989345509893455,
          0.9862595419847328,
          0.9831546707503828,
          0.9800307219662058,
          0.9768875192604006,
          0.9641185647425896,
          0.9426751592356688,
          0.8914858096828047
         ]
        },
        {
         "mode": "lines",
         "name": "DALI (F1)",
         "type": "scatter",
         "x": [
          0.01,
          0.001,
          0.0001,
          0.00001,
          0.000001,
          1e-7,
          1e-8,
          1e-9,
          1e-10,
          1e-11,
          1e-12,
          1e-13,
          1e-14,
          1e-15,
          1e-16,
          1e-17,
          1e-18,
          1e-19
         ],
         "y": [
          0.9954735352036852,
          0.9984873808360308,
          0.9984873808360308,
          0.9984873808360308,
          0.9969724721911675,
          0.9939357445686311,
          0.9939357445686311,
          0.9939357445686311,
          0.9924139044456901,
          0.9924139044456901,
          0.9908897325495998,
          0.9847695104453232,
          0.9832335163543802,
          0.9786111026320352,
          0.9755173532605832,
          0.9598993925414403,
          0.9180528714941326,
          0.8980830759085451
         ]
        },
        {
         "line": {
          "dash": "dot"
         },
         "mode": "lines",
         "name": "DALI (MCC)",
         "type": "scatter",
         "x": [
          0.01,
          0.001,
          0.0001,
          0.00001,
          0.000001,
          1e-7,
          1e-8,
          1e-9,
          1e-10,
          1e-11,
          1e-12,
          1e-13,
          1e-14,
          1e-15,
          1e-16,
          1e-17,
          1e-18,
          1e-19
         ],
         "y": [
          0.995475113122172,
          0.9984871406959154,
          0.9984871406959154,
          0.9984871406959154,
          0.996969696969697,
          0.9939209726443768,
          0.9939209726443768,
          0.9939209726443768,
          0.9923896499238966,
          0.9923896499238966,
          0.9908536585365856,
          0.9846625766871164,
          0.9831029185867896,
          0.978395061728395,
          0.9752321981424148,
          0.959119496855346,
          0.9147540983606556,
          0.8929765886287626
         ]
        },
        {
         "mode": "lines",
         "name": "Intersection (F1)",
         "type": "scatter",
         "x": [
          0.01,
          0.001,
          0.0001,
          0.00001,
          0.000001,
          1e-7,
          1e-8,
          1e-9,
          1e-10,
          1e-11,
          1e-12,
          1e-13,
          1e-14,
          1e-15,
          1e-16,
          1e-17,
          1e-18,
          1e-19
         ],
         "y": [
          0.9955539377983029,
          0.998514315659705,
          0.998514315659705,
          0.998514315659705,
          0.9970264228643299,
          0.9970264228643299,
          0.9940439722259077,
          0.9940439722259077,
          0.9940439722259077,
          0.9925493943554108,
          0.9910525679733614,
          0.9895534828762453,
          0.9850425720938846,
          0.9805109580272803,
          0.9759583522843855,
          0.9667889782031225,
          0.93398916038987,
          0.9065700819177026
         ]
        },
        {
         "line": {
          "dash": "dot"
         },
         "mode": "lines",
         "name": "Intersection (MCC)",
         "type": "scatter",
         "x": [
          0.01,
          0.001,
          0.0001,
          0.00001,
          0.000001,
          1e-7,
          1e-8,
          1e-9,
          1e-10,
          1e-11,
          1e-12,
          1e-13,
          1e-14,
          1e-15,
          1e-16,
          1e-17,
          1e-18,
          1e-19
         ],
         "y": [
          0.9955555555555556,
          0.99851411589896,
          0.99851411589896,
          0.99851411589896,
          0.9970238095238096,
          0.9970238095238096,
          0.9940298507462688,
          0.9940298507462688,
          0.9940298507462688,
          0.992526158445441,
          0.9910179640718564,
          0.9895052473763118,
          0.9849397590361444,
          0.9803328290468988,
          0.9756838905775076,
          0.9662576687116564,
          0.9318541996830428,
          0.9022801302931596
         ]
        }
       ],
       "layout": {
        "legend": {
         "title": {
          "text": "Method"
         }
        },
        "margin": {
         "b": 0,
         "l": 0,
         "r": 0,
         "t": 0
        },
        "template": {
         "data": {
          "bar": [
           {
            "error_x": {
             "color": "#2a3f5f"
            },
            "error_y": {
             "color": "#2a3f5f"
            },
            "marker": {
             "line": {
              "color": "#E5ECF6",
              "width": 0.5
             },
             "pattern": {
              "fillmode": "overlay",
              "size": 10,
              "solidity": 0.2
             }
            },
            "type": "bar"
           }
          ],
          "barpolar": [
           {
            "marker": {
             "line": {
              "color": "#E5ECF6",
              "width": 0.5
             },
             "pattern": {
              "fillmode": "overlay",
              "size": 10,
              "solidity": 0.2
             }
            },
            "type": "barpolar"
           }
          ],
          "carpet": [
           {
            "aaxis": {
             "endlinecolor": "#2a3f5f",
             "gridcolor": "white",
             "linecolor": "white",
             "minorgridcolor": "white",
             "startlinecolor": "#2a3f5f"
            },
            "baxis": {
             "endlinecolor": "#2a3f5f",
             "gridcolor": "white",
             "linecolor": "white",
             "minorgridcolor": "white",
             "startlinecolor": "#2a3f5f"
            },
            "type": "carpet"
           }
          ],
          "choropleth": [
           {
            "colorbar": {
             "outlinewidth": 0,
             "ticks": ""
            },
            "type": "choropleth"
           }
          ],
          "contour": [
           {
            "colorbar": {
             "outlinewidth": 0,
             "ticks": ""
            },
            "colorscale": [
             [
              0,
              "#0d0887"
             ],
             [
              0.1111111111111111,
              "#46039f"
             ],
             [
              0.2222222222222222,
              "#7201a8"
             ],
             [
              0.3333333333333333,
              "#9c179e"
             ],
             [
              0.4444444444444444,
              "#bd3786"
             ],
             [
              0.5555555555555556,
              "#d8576b"
             ],
             [
              0.6666666666666666,
              "#ed7953"
             ],
             [
              0.7777777777777778,
              "#fb9f3a"
             ],
             [
              0.8888888888888888,
              "#fdca26"
             ],
             [
              1,
              "#f0f921"
             ]
            ],
            "type": "contour"
           }
          ],
          "contourcarpet": [
           {
            "colorbar": {
             "outlinewidth": 0,
             "ticks": ""
            },
            "type": "contourcarpet"
           }
          ],
          "heatmap": [
           {
            "colorbar": {
             "outlinewidth": 0,
             "ticks": ""
            },
            "colorscale": [
             [
              0,
              "#0d0887"
             ],
             [
              0.1111111111111111,
              "#46039f"
             ],
             [
              0.2222222222222222,
              "#7201a8"
             ],
             [
              0.3333333333333333,
              "#9c179e"
             ],
             [
              0.4444444444444444,
              "#bd3786"
             ],
             [
              0.5555555555555556,
              "#d8576b"
             ],
             [
              0.6666666666666666,
              "#ed7953"
             ],
             [
              0.7777777777777778,
              "#fb9f3a"
             ],
             [
              0.8888888888888888,
              "#fdca26"
             ],
             [
              1,
              "#f0f921"
             ]
            ],
            "type": "heatmap"
           }
          ],
          "heatmapgl": [
           {
            "colorbar": {
             "outlinewidth": 0,
             "ticks": ""
            },
            "colorscale": [
             [
              0,
              "#0d0887"
             ],
             [
              0.1111111111111111,
              "#46039f"
             ],
             [
              0.2222222222222222,
              "#7201a8"
             ],
             [
              0.3333333333333333,
              "#9c179e"
             ],
             [
              0.4444444444444444,
              "#bd3786"
             ],
             [
              0.5555555555555556,
              "#d8576b"
             ],
             [
              0.6666666666666666,
              "#ed7953"
             ],
             [
              0.7777777777777778,
              "#fb9f3a"
             ],
             [
              0.8888888888888888,
              "#fdca26"
             ],
             [
              1,
              "#f0f921"
             ]
            ],
            "type": "heatmapgl"
           }
          ],
          "histogram": [
           {
            "marker": {
             "pattern": {
              "fillmode": "overlay",
              "size": 10,
              "solidity": 0.2
             }
            },
            "type": "histogram"
           }
          ],
          "histogram2d": [
           {
            "colorbar": {
             "outlinewidth": 0,
             "ticks": ""
            },
            "colorscale": [
             [
              0,
              "#0d0887"
             ],
             [
              0.1111111111111111,
              "#46039f"
             ],
             [
              0.2222222222222222,
              "#7201a8"
             ],
             [
              0.3333333333333333,
              "#9c179e"
             ],
             [
              0.4444444444444444,
              "#bd3786"
             ],
             [
              0.5555555555555556,
              "#d8576b"
             ],
             [
              0.6666666666666666,
              "#ed7953"
             ],
             [
              0.7777777777777778,
              "#fb9f3a"
             ],
             [
              0.8888888888888888,
              "#fdca26"
             ],
             [
              1,
              "#f0f921"
             ]
            ],
            "type": "histogram2d"
           }
          ],
          "histogram2dcontour": [
           {
            "colorbar": {
             "outlinewidth": 0,
             "ticks": ""
            },
            "colorscale": [
             [
              0,
              "#0d0887"
             ],
             [
              0.1111111111111111,
              "#46039f"
             ],
             [
              0.2222222222222222,
              "#7201a8"
             ],
             [
              0.3333333333333333,
              "#9c179e"
             ],
             [
              0.4444444444444444,
              "#bd3786"
             ],
             [
              0.5555555555555556,
              "#d8576b"
             ],
             [
              0.6666666666666666,
              "#ed7953"
             ],
             [
              0.7777777777777778,
              "#fb9f3a"
             ],
             [
              0.8888888888888888,
              "#fdca26"
             ],
             [
              1,
              "#f0f921"
             ]
            ],
            "type": "histogram2dcontour"
           }
          ],
          "mesh3d": [
           {
            "colorbar": {
             "outlinewidth": 0,
             "ticks": ""
            },
            "type": "mesh3d"
           }
          ],
          "parcoords": [
           {
            "line": {
             "colorbar": {
              "outlinewidth": 0,
              "ticks": ""
             }
            },
            "type": "parcoords"
           }
          ],
          "pie": [
           {
            "automargin": true,
            "type": "pie"
           }
          ],
          "scatter": [
           {
            "fillpattern": {
             "fillmode": "overlay",
             "size": 10,
             "solidity": 0.2
            },
            "type": "scatter"
           }
          ],
          "scatter3d": [
           {
            "line": {
             "colorbar": {
              "outlinewidth": 0,
              "ticks": ""
             }
            },
            "marker": {
             "colorbar": {
              "outlinewidth": 0,
              "ticks": ""
             }
            },
            "type": "scatter3d"
           }
          ],
          "scattercarpet": [
           {
            "marker": {
             "colorbar": {
              "outlinewidth": 0,
              "ticks": ""
             }
            },
            "type": "scattercarpet"
           }
          ],
          "scattergeo": [
           {
            "marker": {
             "colorbar": {
              "outlinewidth": 0,
              "ticks": ""
             }
            },
            "type": "scattergeo"
           }
          ],
          "scattergl": [
           {
            "marker": {
             "colorbar": {
              "outlinewidth": 0,
              "ticks": ""
             }
            },
            "type": "scattergl"
           }
          ],
          "scattermapbox": [
           {
            "marker": {
             "colorbar": {
              "outlinewidth": 0,
              "ticks": ""
             }
            },
            "type": "scattermapbox"
           }
          ],
          "scatterpolar": [
           {
            "marker": {
             "colorbar": {
              "outlinewidth": 0,
              "ticks": ""
             }
            },
            "type": "scatterpolar"
           }
          ],
          "scatterpolargl": [
           {
            "marker": {
             "colorbar": {
              "outlinewidth": 0,
              "ticks": ""
             }
            },
            "type": "scatterpolargl"
           }
          ],
          "scatterternary": [
           {
            "marker": {
             "colorbar": {
              "outlinewidth": 0,
              "ticks": ""
             }
            },
            "type": "scatterternary"
           }
          ],
          "surface": [
           {
            "colorbar": {
             "outlinewidth": 0,
             "ticks": ""
            },
            "colorscale": [
             [
              0,
              "#0d0887"
             ],
             [
              0.1111111111111111,
              "#46039f"
             ],
             [
              0.2222222222222222,
              "#7201a8"
             ],
             [
              0.3333333333333333,
              "#9c179e"
             ],
             [
              0.4444444444444444,
              "#bd3786"
             ],
             [
              0.5555555555555556,
              "#d8576b"
             ],
             [
              0.6666666666666666,
              "#ed7953"
             ],
             [
              0.7777777777777778,
              "#fb9f3a"
             ],
             [
              0.8888888888888888,
              "#fdca26"
             ],
             [
              1,
              "#f0f921"
             ]
            ],
            "type": "surface"
           }
          ],
          "table": [
           {
            "cells": {
             "fill": {
              "color": "#EBF0F8"
             },
             "line": {
              "color": "white"
             }
            },
            "header": {
             "fill": {
              "color": "#C8D4E3"
             },
             "line": {
              "color": "white"
             }
            },
            "type": "table"
           }
          ]
         },
         "layout": {
          "annotationdefaults": {
           "arrowcolor": "#2a3f5f",
           "arrowhead": 0,
           "arrowwidth": 1
          },
          "autotypenumbers": "strict",
          "coloraxis": {
           "colorbar": {
            "outlinewidth": 0,
            "ticks": ""
           }
          },
          "colorscale": {
           "diverging": [
            [
             0,
             "#8e0152"
            ],
            [
             0.1,
             "#c51b7d"
            ],
            [
             0.2,
             "#de77ae"
            ],
            [
             0.3,
             "#f1b6da"
            ],
            [
             0.4,
             "#fde0ef"
            ],
            [
             0.5,
             "#f7f7f7"
            ],
            [
             0.6,
             "#e6f5d0"
            ],
            [
             0.7,
             "#b8e186"
            ],
            [
             0.8,
             "#7fbc41"
            ],
            [
             0.9,
             "#4d9221"
            ],
            [
             1,
             "#276419"
            ]
           ],
           "sequential": [
            [
             0,
             "#0d0887"
            ],
            [
             0.1111111111111111,
             "#46039f"
            ],
            [
             0.2222222222222222,
             "#7201a8"
            ],
            [
             0.3333333333333333,
             "#9c179e"
            ],
            [
             0.4444444444444444,
             "#bd3786"
            ],
            [
             0.5555555555555556,
             "#d8576b"
            ],
            [
             0.6666666666666666,
             "#ed7953"
            ],
            [
             0.7777777777777778,
             "#fb9f3a"
            ],
            [
             0.8888888888888888,
             "#fdca26"
            ],
            [
             1,
             "#f0f921"
            ]
           ],
           "sequentialminus": [
            [
             0,
             "#0d0887"
            ],
            [
             0.1111111111111111,
             "#46039f"
            ],
            [
             0.2222222222222222,
             "#7201a8"
            ],
            [
             0.3333333333333333,
             "#9c179e"
            ],
            [
             0.4444444444444444,
             "#bd3786"
            ],
            [
             0.5555555555555556,
             "#d8576b"
            ],
            [
             0.6666666666666666,
             "#ed7953"
            ],
            [
             0.7777777777777778,
             "#fb9f3a"
            ],
            [
             0.8888888888888888,
             "#fdca26"
            ],
            [
             1,
             "#f0f921"
            ]
           ]
          },
          "colorway": [
           "#636efa",
           "#EF553B",
           "#00cc96",
           "#ab63fa",
           "#FFA15A",
           "#19d3f3",
           "#FF6692",
           "#B6E880",
           "#FF97FF",
           "#FECB52"
          ],
          "font": {
           "color": "#2a3f5f"
          },
          "geo": {
           "bgcolor": "white",
           "lakecolor": "white",
           "landcolor": "#E5ECF6",
           "showlakes": true,
           "showland": true,
           "subunitcolor": "white"
          },
          "hoverlabel": {
           "align": "left"
          },
          "hovermode": "closest",
          "mapbox": {
           "style": "light"
          },
          "paper_bgcolor": "white",
          "plot_bgcolor": "#E5ECF6",
          "polar": {
           "angularaxis": {
            "gridcolor": "white",
            "linecolor": "white",
            "ticks": ""
           },
           "bgcolor": "#E5ECF6",
           "radialaxis": {
            "gridcolor": "white",
            "linecolor": "white",
            "ticks": ""
           }
          },
          "scene": {
           "xaxis": {
            "backgroundcolor": "#E5ECF6",
            "gridcolor": "white",
            "gridwidth": 2,
            "linecolor": "white",
            "showbackground": true,
            "ticks": "",
            "zerolinecolor": "white"
           },
           "yaxis": {
            "backgroundcolor": "#E5ECF6",
            "gridcolor": "white",
            "gridwidth": 2,
            "linecolor": "white",
            "showbackground": true,
            "ticks": "",
            "zerolinecolor": "white"
           },
           "zaxis": {
            "backgroundcolor": "#E5ECF6",
            "gridcolor": "white",
            "gridwidth": 2,
            "linecolor": "white",
            "showbackground": true,
            "ticks": "",
            "zerolinecolor": "white"
           }
          },
          "shapedefaults": {
           "line": {
            "color": "#2a3f5f"
           }
          },
          "ternary": {
           "aaxis": {
            "gridcolor": "white",
            "linecolor": "white",
            "ticks": ""
           },
           "baxis": {
            "gridcolor": "white",
            "linecolor": "white",
            "ticks": ""
           },
           "bgcolor": "#E5ECF6",
           "caxis": {
            "gridcolor": "white",
            "linecolor": "white",
            "ticks": ""
           }
          },
          "title": {
           "x": 0.05
          },
          "xaxis": {
           "automargin": true,
           "gridcolor": "white",
           "linecolor": "white",
           "ticks": "",
           "title": {
            "standoff": 15
           },
           "zerolinecolor": "white",
           "zerolinewidth": 2
          },
          "yaxis": {
           "automargin": true,
           "gridcolor": "white",
           "linecolor": "white",
           "ticks": "",
           "title": {
            "standoff": 15
           },
           "zerolinecolor": "white",
           "zerolinewidth": 2
          }
         }
        },
        "xaxis": {
         "tickformat": ".2",
         "title": {
          "text": "E-Value"
         },
         "type": "log"
        },
        "yaxis": {
         "title": {
          "text": ""
         }
        }
       }
      }
     },
     "metadata": {},
     "output_type": "display_data"
    }
   ],
   "source": [
    "# these are the columns: evalue\tf1\taccuracy\tprecision\trecall\tmcc\tTP\tFP\tTN\tFN\n",
    "# we want to plot the evalue vs the accuracy, precision and recall for each method\n",
    "import plotly.express as px\n",
    "import plotly.graph_objects as go\n",
    "\n",
    "# Plot the evalue vs accuracy for each method (x axis must be log scale)\n",
    "fig = go.Figure()   \n",
    "\n",
    "# MCC as a line for each method, f1 as a dotted line for each method\n",
    "fig.add_trace(go.Scatter(x=pdb_evalues[\"evalue\"], y=pdb_evalues[\"MCC\"], mode=\"lines\", name=\"PDB (F1)\", ))\n",
    "fig.add_trace(go.Scatter(x=pdb_evalues[\"evalue\"], y=pdb_evalues[\"f1\"], mode=\"lines\", name=\"PDB (MCC)\", line=dict(dash=\"dot\")))\n",
    "\n",
    "# MCC as a line for each method, f1 as a dotted line for each method\n",
    "fig.add_trace(go.Scatter(x=foldseek_evalues[\"evalue\"], y=foldseek_evalues[\"MCC\"], mode=\"lines\", name=\"Foldseek (F1)\", ))\n",
    "fig.add_trace(go.Scatter(x=foldseek_evalues[\"evalue\"], y=foldseek_evalues[\"f1\"], mode=\"lines\", name=\"Foldseek (MCC)\", line=dict(dash=\"dot\")))\n",
    "\n",
    "# MCC as a line for each method, f1 as a dotted line for each method\n",
    "fig.add_trace(go.Scatter(x=dali_evalues[\"evalue\"], y=dali_evalues[\"MCC\"], mode=\"lines\", name=\"DALI (F1)\", ))\n",
    "fig.add_trace(go.Scatter(x=dali_evalues[\"evalue\"], y=dali_evalues[\"f1\"], mode=\"lines\", name=\"DALI (MCC)\", line=dict(dash=\"dot\")))\n",
    "\n",
    "# MCC as a line for each method, f1 as a dotted line for each method\n",
    "fig.add_trace(go.Scatter(x=intersection_evalues[\"evalue\"], y=intersection_evalues[\"MCC\"], mode=\"lines\", name=\"Intersection (F1)\", ))\n",
    "fig.add_trace(go.Scatter(x=intersection_evalues[\"evalue\"], y=intersection_evalues[\"f1\"], mode=\"lines\", name=\"Intersection (MCC)\", line=dict(dash=\"dot\")))\n",
    "\n",
    "#set the log scale and remove the measure units (like p,n,m)\n",
    "fig.update_xaxes(type=\"log\", tickformat=\".2\")\n",
    "fig.update_layout( xaxis_title=\"E-Value\", yaxis_title=\"\", legend_title=\"Method\")\n",
    "\n",
    "# Remove padding around the plot\n",
    "fig.update_layout(margin=dict(l=0, r=0, b=0, t=0))\n",
    "\n",
    "# Save the image as a png to the image folder\n",
    "# IMAGES_FOLDER = \"./doc/images/\"\n",
    "# fig.write_image(IMAGES_FOLDER + \"evalue_vs_accuracy.png\", width=800, height=400, scale=2)\n",
    "fig.show()"
   ]
  },
  {
   "cell_type": "code",
   "execution_count": 21,
   "metadata": {},
   "outputs": [
    {
     "data": {
      "application/vnd.plotly.v1+json": {
       "config": {
        "plotlyServerURL": "https://plot.ly"
       },
       "data": [
        {
         "mode": "lines+markers",
         "name": "PDB",
         "type": "scatter",
         "x": [
          0.01,
          0.001,
          0.0001,
          0.00001,
          0.000001,
          1e-7,
          1e-8,
          1e-9,
          1e-10,
          1e-11,
          1e-12,
          1e-13,
          1e-14,
          1e-15,
          1e-16,
          1e-17,
          1e-18,
          1e-19
         ],
         "y": [
          4,
          1,
          1,
          1,
          1,
          3,
          4,
          4,
          4,
          5,
          6,
          7,
          9,
          11,
          16,
          21,
          49,
          61
         ]
        },
        {
         "mode": "lines+markers",
         "name": "Foldseek",
         "type": "scatter",
         "x": [
          0.01,
          0.001,
          0.0001,
          0.00001,
          0.000001,
          1e-7,
          1e-8,
          1e-9,
          1e-10,
          1e-11,
          1e-12,
          1e-13,
          1e-14,
          1e-15,
          1e-16,
          1e-17,
          1e-18,
          1e-19
         ],
         "y": [
          1,
          0,
          1,
          1,
          1,
          3,
          4,
          4,
          5,
          6,
          7,
          9,
          11,
          13,
          15,
          23,
          36,
          65
         ]
        },
        {
         "mode": "lines+markers",
         "name": "DALI",
         "type": "scatter",
         "x": [
          0.01,
          0.001,
          0.0001,
          0.00001,
          0.000001,
          1e-7,
          1e-8,
          1e-9,
          1e-10,
          1e-11,
          1e-12,
          1e-13,
          1e-14,
          1e-15,
          1e-16,
          1e-17,
          1e-18,
          1e-19
         ],
         "y": [
          3,
          1,
          1,
          1,
          2,
          4,
          4,
          4,
          5,
          5,
          6,
          10,
          11,
          14,
          16,
          26,
          52,
          64
         ]
        },
        {
         "mode": "lines+markers",
         "name": "Intersection",
         "type": "scatter",
         "x": [
          0.01,
          0.001,
          0.0001,
          0.00001,
          0.000001,
          1e-7,
          1e-8,
          1e-9,
          1e-10,
          1e-11,
          1e-12,
          1e-13,
          1e-14,
          1e-15,
          1e-16,
          1e-17,
          1e-18,
          1e-19
         ],
         "y": [
          3,
          1,
          1,
          1,
          2,
          2,
          4,
          4,
          4,
          5,
          6,
          7,
          10,
          13,
          16,
          22,
          43,
          60
         ]
        },
        {
         "mode": "lines+markers",
         "name": "Union",
         "type": "scatter",
         "x": [
          0.01,
          0.001,
          0.0001,
          0.00001,
          0.000001,
          1e-7,
          1e-8,
          1e-9,
          1e-10,
          1e-11,
          1e-12,
          1e-13,
          1e-14,
          1e-15,
          1e-16,
          1e-17,
          1e-18,
          1e-19
         ],
         "y": [
          3,
          1,
          1,
          1,
          1,
          3,
          4,
          4,
          5,
          5,
          6,
          8,
          10,
          11,
          15,
          21,
          41,
          62
         ]
        }
       ],
       "layout": {
        "legend": {
         "title": {
          "text": "Method"
         }
        },
        "margin": {
         "b": 0,
         "l": 0,
         "r": 0,
         "t": 0
        },
        "template": {
         "data": {
          "bar": [
           {
            "error_x": {
             "color": "#2a3f5f"
            },
            "error_y": {
             "color": "#2a3f5f"
            },
            "marker": {
             "line": {
              "color": "#E5ECF6",
              "width": 0.5
             },
             "pattern": {
              "fillmode": "overlay",
              "size": 10,
              "solidity": 0.2
             }
            },
            "type": "bar"
           }
          ],
          "barpolar": [
           {
            "marker": {
             "line": {
              "color": "#E5ECF6",
              "width": 0.5
             },
             "pattern": {
              "fillmode": "overlay",
              "size": 10,
              "solidity": 0.2
             }
            },
            "type": "barpolar"
           }
          ],
          "carpet": [
           {
            "aaxis": {
             "endlinecolor": "#2a3f5f",
             "gridcolor": "white",
             "linecolor": "white",
             "minorgridcolor": "white",
             "startlinecolor": "#2a3f5f"
            },
            "baxis": {
             "endlinecolor": "#2a3f5f",
             "gridcolor": "white",
             "linecolor": "white",
             "minorgridcolor": "white",
             "startlinecolor": "#2a3f5f"
            },
            "type": "carpet"
           }
          ],
          "choropleth": [
           {
            "colorbar": {
             "outlinewidth": 0,
             "ticks": ""
            },
            "type": "choropleth"
           }
          ],
          "contour": [
           {
            "colorbar": {
             "outlinewidth": 0,
             "ticks": ""
            },
            "colorscale": [
             [
              0,
              "#0d0887"
             ],
             [
              0.1111111111111111,
              "#46039f"
             ],
             [
              0.2222222222222222,
              "#7201a8"
             ],
             [
              0.3333333333333333,
              "#9c179e"
             ],
             [
              0.4444444444444444,
              "#bd3786"
             ],
             [
              0.5555555555555556,
              "#d8576b"
             ],
             [
              0.6666666666666666,
              "#ed7953"
             ],
             [
              0.7777777777777778,
              "#fb9f3a"
             ],
             [
              0.8888888888888888,
              "#fdca26"
             ],
             [
              1,
              "#f0f921"
             ]
            ],
            "type": "contour"
           }
          ],
          "contourcarpet": [
           {
            "colorbar": {
             "outlinewidth": 0,
             "ticks": ""
            },
            "type": "contourcarpet"
           }
          ],
          "heatmap": [
           {
            "colorbar": {
             "outlinewidth": 0,
             "ticks": ""
            },
            "colorscale": [
             [
              0,
              "#0d0887"
             ],
             [
              0.1111111111111111,
              "#46039f"
             ],
             [
              0.2222222222222222,
              "#7201a8"
             ],
             [
              0.3333333333333333,
              "#9c179e"
             ],
             [
              0.4444444444444444,
              "#bd3786"
             ],
             [
              0.5555555555555556,
              "#d8576b"
             ],
             [
              0.6666666666666666,
              "#ed7953"
             ],
             [
              0.7777777777777778,
              "#fb9f3a"
             ],
             [
              0.8888888888888888,
              "#fdca26"
             ],
             [
              1,
              "#f0f921"
             ]
            ],
            "type": "heatmap"
           }
          ],
          "heatmapgl": [
           {
            "colorbar": {
             "outlinewidth": 0,
             "ticks": ""
            },
            "colorscale": [
             [
              0,
              "#0d0887"
             ],
             [
              0.1111111111111111,
              "#46039f"
             ],
             [
              0.2222222222222222,
              "#7201a8"
             ],
             [
              0.3333333333333333,
              "#9c179e"
             ],
             [
              0.4444444444444444,
              "#bd3786"
             ],
             [
              0.5555555555555556,
              "#d8576b"
             ],
             [
              0.6666666666666666,
              "#ed7953"
             ],
             [
              0.7777777777777778,
              "#fb9f3a"
             ],
             [
              0.8888888888888888,
              "#fdca26"
             ],
             [
              1,
              "#f0f921"
             ]
            ],
            "type": "heatmapgl"
           }
          ],
          "histogram": [
           {
            "marker": {
             "pattern": {
              "fillmode": "overlay",
              "size": 10,
              "solidity": 0.2
             }
            },
            "type": "histogram"
           }
          ],
          "histogram2d": [
           {
            "colorbar": {
             "outlinewidth": 0,
             "ticks": ""
            },
            "colorscale": [
             [
              0,
              "#0d0887"
             ],
             [
              0.1111111111111111,
              "#46039f"
             ],
             [
              0.2222222222222222,
              "#7201a8"
             ],
             [
              0.3333333333333333,
              "#9c179e"
             ],
             [
              0.4444444444444444,
              "#bd3786"
             ],
             [
              0.5555555555555556,
              "#d8576b"
             ],
             [
              0.6666666666666666,
              "#ed7953"
             ],
             [
              0.7777777777777778,
              "#fb9f3a"
             ],
             [
              0.8888888888888888,
              "#fdca26"
             ],
             [
              1,
              "#f0f921"
             ]
            ],
            "type": "histogram2d"
           }
          ],
          "histogram2dcontour": [
           {
            "colorbar": {
             "outlinewidth": 0,
             "ticks": ""
            },
            "colorscale": [
             [
              0,
              "#0d0887"
             ],
             [
              0.1111111111111111,
              "#46039f"
             ],
             [
              0.2222222222222222,
              "#7201a8"
             ],
             [
              0.3333333333333333,
              "#9c179e"
             ],
             [
              0.4444444444444444,
              "#bd3786"
             ],
             [
              0.5555555555555556,
              "#d8576b"
             ],
             [
              0.6666666666666666,
              "#ed7953"
             ],
             [
              0.7777777777777778,
              "#fb9f3a"
             ],
             [
              0.8888888888888888,
              "#fdca26"
             ],
             [
              1,
              "#f0f921"
             ]
            ],
            "type": "histogram2dcontour"
           }
          ],
          "mesh3d": [
           {
            "colorbar": {
             "outlinewidth": 0,
             "ticks": ""
            },
            "type": "mesh3d"
           }
          ],
          "parcoords": [
           {
            "line": {
             "colorbar": {
              "outlinewidth": 0,
              "ticks": ""
             }
            },
            "type": "parcoords"
           }
          ],
          "pie": [
           {
            "automargin": true,
            "type": "pie"
           }
          ],
          "scatter": [
           {
            "fillpattern": {
             "fillmode": "overlay",
             "size": 10,
             "solidity": 0.2
            },
            "type": "scatter"
           }
          ],
          "scatter3d": [
           {
            "line": {
             "colorbar": {
              "outlinewidth": 0,
              "ticks": ""
             }
            },
            "marker": {
             "colorbar": {
              "outlinewidth": 0,
              "ticks": ""
             }
            },
            "type": "scatter3d"
           }
          ],
          "scattercarpet": [
           {
            "marker": {
             "colorbar": {
              "outlinewidth": 0,
              "ticks": ""
             }
            },
            "type": "scattercarpet"
           }
          ],
          "scattergeo": [
           {
            "marker": {
             "colorbar": {
              "outlinewidth": 0,
              "ticks": ""
             }
            },
            "type": "scattergeo"
           }
          ],
          "scattergl": [
           {
            "marker": {
             "colorbar": {
              "outlinewidth": 0,
              "ticks": ""
             }
            },
            "type": "scattergl"
           }
          ],
          "scattermapbox": [
           {
            "marker": {
             "colorbar": {
              "outlinewidth": 0,
              "ticks": ""
             }
            },
            "type": "scattermapbox"
           }
          ],
          "scatterpolar": [
           {
            "marker": {
             "colorbar": {
              "outlinewidth": 0,
              "ticks": ""
             }
            },
            "type": "scatterpolar"
           }
          ],
          "scatterpolargl": [
           {
            "marker": {
             "colorbar": {
              "outlinewidth": 0,
              "ticks": ""
             }
            },
            "type": "scatterpolargl"
           }
          ],
          "scatterternary": [
           {
            "marker": {
             "colorbar": {
              "outlinewidth": 0,
              "ticks": ""
             }
            },
            "type": "scatterternary"
           }
          ],
          "surface": [
           {
            "colorbar": {
             "outlinewidth": 0,
             "ticks": ""
            },
            "colorscale": [
             [
              0,
              "#0d0887"
             ],
             [
              0.1111111111111111,
              "#46039f"
             ],
             [
              0.2222222222222222,
              "#7201a8"
             ],
             [
              0.3333333333333333,
              "#9c179e"
             ],
             [
              0.4444444444444444,
              "#bd3786"
             ],
             [
              0.5555555555555556,
              "#d8576b"
             ],
             [
              0.6666666666666666,
              "#ed7953"
             ],
             [
              0.7777777777777778,
              "#fb9f3a"
             ],
             [
              0.8888888888888888,
              "#fdca26"
             ],
             [
              1,
              "#f0f921"
             ]
            ],
            "type": "surface"
           }
          ],
          "table": [
           {
            "cells": {
             "fill": {
              "color": "#EBF0F8"
             },
             "line": {
              "color": "white"
             }
            },
            "header": {
             "fill": {
              "color": "#C8D4E3"
             },
             "line": {
              "color": "white"
             }
            },
            "type": "table"
           }
          ]
         },
         "layout": {
          "annotationdefaults": {
           "arrowcolor": "#2a3f5f",
           "arrowhead": 0,
           "arrowwidth": 1
          },
          "autotypenumbers": "strict",
          "coloraxis": {
           "colorbar": {
            "outlinewidth": 0,
            "ticks": ""
           }
          },
          "colorscale": {
           "diverging": [
            [
             0,
             "#8e0152"
            ],
            [
             0.1,
             "#c51b7d"
            ],
            [
             0.2,
             "#de77ae"
            ],
            [
             0.3,
             "#f1b6da"
            ],
            [
             0.4,
             "#fde0ef"
            ],
            [
             0.5,
             "#f7f7f7"
            ],
            [
             0.6,
             "#e6f5d0"
            ],
            [
             0.7,
             "#b8e186"
            ],
            [
             0.8,
             "#7fbc41"
            ],
            [
             0.9,
             "#4d9221"
            ],
            [
             1,
             "#276419"
            ]
           ],
           "sequential": [
            [
             0,
             "#0d0887"
            ],
            [
             0.1111111111111111,
             "#46039f"
            ],
            [
             0.2222222222222222,
             "#7201a8"
            ],
            [
             0.3333333333333333,
             "#9c179e"
            ],
            [
             0.4444444444444444,
             "#bd3786"
            ],
            [
             0.5555555555555556,
             "#d8576b"
            ],
            [
             0.6666666666666666,
             "#ed7953"
            ],
            [
             0.7777777777777778,
             "#fb9f3a"
            ],
            [
             0.8888888888888888,
             "#fdca26"
            ],
            [
             1,
             "#f0f921"
            ]
           ],
           "sequentialminus": [
            [
             0,
             "#0d0887"
            ],
            [
             0.1111111111111111,
             "#46039f"
            ],
            [
             0.2222222222222222,
             "#7201a8"
            ],
            [
             0.3333333333333333,
             "#9c179e"
            ],
            [
             0.4444444444444444,
             "#bd3786"
            ],
            [
             0.5555555555555556,
             "#d8576b"
            ],
            [
             0.6666666666666666,
             "#ed7953"
            ],
            [
             0.7777777777777778,
             "#fb9f3a"
            ],
            [
             0.8888888888888888,
             "#fdca26"
            ],
            [
             1,
             "#f0f921"
            ]
           ]
          },
          "colorway": [
           "#636efa",
           "#EF553B",
           "#00cc96",
           "#ab63fa",
           "#FFA15A",
           "#19d3f3",
           "#FF6692",
           "#B6E880",
           "#FF97FF",
           "#FECB52"
          ],
          "font": {
           "color": "#2a3f5f"
          },
          "geo": {
           "bgcolor": "white",
           "lakecolor": "white",
           "landcolor": "#E5ECF6",
           "showlakes": true,
           "showland": true,
           "subunitcolor": "white"
          },
          "hoverlabel": {
           "align": "left"
          },
          "hovermode": "closest",
          "mapbox": {
           "style": "light"
          },
          "paper_bgcolor": "white",
          "plot_bgcolor": "#E5ECF6",
          "polar": {
           "angularaxis": {
            "gridcolor": "white",
            "linecolor": "white",
            "ticks": ""
           },
           "bgcolor": "#E5ECF6",
           "radialaxis": {
            "gridcolor": "white",
            "linecolor": "white",
            "ticks": ""
           }
          },
          "scene": {
           "xaxis": {
            "backgroundcolor": "#E5ECF6",
            "gridcolor": "white",
            "gridwidth": 2,
            "linecolor": "white",
            "showbackground": true,
            "ticks": "",
            "zerolinecolor": "white"
           },
           "yaxis": {
            "backgroundcolor": "#E5ECF6",
            "gridcolor": "white",
            "gridwidth": 2,
            "linecolor": "white",
            "showbackground": true,
            "ticks": "",
            "zerolinecolor": "white"
           },
           "zaxis": {
            "backgroundcolor": "#E5ECF6",
            "gridcolor": "white",
            "gridwidth": 2,
            "linecolor": "white",
            "showbackground": true,
            "ticks": "",
            "zerolinecolor": "white"
           }
          },
          "shapedefaults": {
           "line": {
            "color": "#2a3f5f"
           }
          },
          "ternary": {
           "aaxis": {
            "gridcolor": "white",
            "linecolor": "white",
            "ticks": ""
           },
           "baxis": {
            "gridcolor": "white",
            "linecolor": "white",
            "ticks": ""
           },
           "bgcolor": "#E5ECF6",
           "caxis": {
            "gridcolor": "white",
            "linecolor": "white",
            "ticks": ""
           }
          },
          "title": {
           "x": 0.05
          },
          "xaxis": {
           "automargin": true,
           "gridcolor": "white",
           "linecolor": "white",
           "ticks": "",
           "title": {
            "standoff": 15
           },
           "zerolinecolor": "white",
           "zerolinewidth": 2
          },
          "yaxis": {
           "automargin": true,
           "gridcolor": "white",
           "linecolor": "white",
           "ticks": "",
           "title": {
            "standoff": 15
           },
           "zerolinecolor": "white",
           "zerolinewidth": 2
          }
         }
        },
        "xaxis": {
         "tickformat": ".2",
         "title": {
          "text": "Evalue"
         },
         "type": "log"
        },
        "yaxis": {
         "title": {
          "text": "Incorrectly Classified Proteins"
         }
        }
       }
      }
     },
     "metadata": {},
     "output_type": "display_data"
    }
   ],
   "source": [
    "# incorrectly classified proteins (false positives and false negatives) by evalue\n",
    "fig = go.Figure()\n",
    "\n",
    "# PDBe (as lines and points)\n",
    "fig.add_trace(go.Scatter(x=pdb_evalues[\"evalue\"], y=pdb_evalues[\"FP\"] + pdb_evalues[\"FN\"], mode=\"lines+markers\", name=\"PDB\"))\n",
    "\n",
    "# Foldseek (as lines and points)\n",
    "fig.add_trace(go.Scatter(x=foldseek_evalues[\"evalue\"], y=foldseek_evalues[\"FP\"] + foldseek_evalues[\"FN\"], mode=\"lines+markers\", name=\"Foldseek\"))\n",
    "\n",
    "# DALI (as lines and points)\n",
    "fig.add_trace(go.Scatter(x=dali_evalues[\"evalue\"], y=dali_evalues[\"FP\"] + dali_evalues[\"FN\"], mode=\"lines+markers\", name=\"DALI\"))\n",
    "\n",
    "# Intersection (as lines and points)\n",
    "fig.add_trace(go.Scatter(x=intersection_evalues[\"evalue\"], y=intersection_evalues[\"FP\"] + intersection_evalues[\"FN\"], mode=\"lines+markers\", name=\"Intersection\"))\n",
    "\n",
    "# Union (as lines and points)\n",
    "fig.add_trace(go.Scatter(x=union_evalues[\"evalue\"], y=union_evalues[\"FP\"] + union_evalues[\"FN\"], mode=\"lines+markers\", name=\"Union\"))\n",
    "\n",
    "# Remove padding around the plot\n",
    "fig.update_xaxes(type=\"log\", tickformat=\".2\")\n",
    "fig.update_layout(margin=dict(l=0, r=0, b=0, t=0))\n",
    "fig.update_layout( xaxis_title=\"Evalue\", yaxis_title=\"Incorrectly Classified Proteins\", legend_title=\"Method\")\n",
    "\n",
    "# Save the image as a png to the image folder\n",
    "# fig.write_image(IMAGES_FOLDER + \"false_negatives_vs_false_positives.png\", width=800, height=400, scale=2)\n",
    "\n",
    "fig.show()"
   ]
  },
  {
   "cell_type": "code",
   "execution_count": 59,
   "metadata": {},
   "outputs": [
    {
     "name": "stdout",
     "output_type": "stream",
     "text": [
      "PDBe: 1\n",
      "Foldseek: 1\n",
      "DALI: 1\n",
      "Intersection: 1\n",
      "Union: 1\n"
     ]
    }
   ],
   "source": [
    "# we choose the evalue threshold #10^-6 and and look for the best model (lowest fp+fn)\n",
    "EVALUE_THRESHOLD = 10**-5\n",
    "pdbe_evalues_row = pdb_evalues.loc[pdb_evalues[\"evalue\"] == EVALUE_THRESHOLD]\n",
    "pdbe_score = pdbe_evalues_row[\"FP\"].values[0] + pdbe_evalues_row[\"FN\"].values[0]\n",
    "\n",
    "foldseek_evalues_row = foldseek_evalues.loc[foldseek_evalues[\"evalue\"] == EVALUE_THRESHOLD]\n",
    "foldseek_score = foldseek_evalues_row[\"FP\"].values[0] + foldseek_evalues_row[\"FN\"].values[0]\n",
    "\n",
    "dali_evalues_row = dali_evalues.loc[dali_evalues[\"evalue\"] == EVALUE_THRESHOLD]\n",
    "dali_score = dali_evalues_row[\"FP\"].values[0] + dali_evalues_row[\"FN\"].values[0]\n",
    "\n",
    "intersection_evalues_row = intersection_evalues.loc[intersection_evalues[\"evalue\"] == EVALUE_THRESHOLD]\n",
    "intersection_score = intersection_evalues_row[\"FP\"].values[0] + intersection_evalues_row[\"FN\"].values[0]\n",
    "\n",
    "union_evalues_row = union_evalues.loc[union_evalues[\"evalue\"] == EVALUE_THRESHOLD]\n",
    "union_score = union_evalues_row[\"FP\"].values[0] + union_evalues_row[\"FN\"].values[0]\n",
    "\n",
    "# print the results for each method\n",
    "print(\"PDBe: \" + str(pdbe_score))\n",
    "print(\"Foldseek: \" + str(foldseek_score))\n",
    "print(\"DALI: \" + str(dali_score))\n",
    "print(\"Intersection: \" + str(intersection_score))\n",
    "print(\"Union: \" + str(union_score))\n"
   ]
  },
  {
   "cell_type": "code",
   "execution_count": 60,
   "metadata": {},
   "outputs": [
    {
     "data": {
      "text/html": [
       "<div>\n",
       "<style scoped>\n",
       "    .dataframe tbody tr th:only-of-type {\n",
       "        vertical-align: middle;\n",
       "    }\n",
       "\n",
       "    .dataframe tbody tr th {\n",
       "        vertical-align: top;\n",
       "    }\n",
       "\n",
       "    .dataframe thead th {\n",
       "        text-align: right;\n",
       "    }\n",
       "</style>\n",
       "<table border=\"1\" class=\"dataframe\">\n",
       "  <thead>\n",
       "    <tr style=\"text-align: right;\">\n",
       "      <th></th>\n",
       "      <th>evalue</th>\n",
       "      <th>f1</th>\n",
       "      <th>accuracy</th>\n",
       "      <th>precision</th>\n",
       "      <th>recall</th>\n",
       "      <th>mcc</th>\n",
       "      <th>TP</th>\n",
       "      <th>FP</th>\n",
       "      <th>TN</th>\n",
       "      <th>FN</th>\n",
       "      <th>MCC</th>\n",
       "    </tr>\n",
       "  </thead>\n",
       "  <tbody>\n",
       "    <tr>\n",
       "      <th>3</th>\n",
       "      <td>0.00001</td>\n",
       "      <td>0.998496</td>\n",
       "      <td>0.999998</td>\n",
       "      <td>1.0</td>\n",
       "      <td>0.996997</td>\n",
       "      <td>0</td>\n",
       "      <td>332</td>\n",
       "      <td>0</td>\n",
       "      <td>553177</td>\n",
       "      <td>1</td>\n",
       "      <td>0.998496</td>\n",
       "    </tr>\n",
       "  </tbody>\n",
       "</table>\n",
       "</div>"
      ],
      "text/plain": [
       "    evalue        f1  accuracy  precision    recall  mcc   TP  FP      TN  FN   \n",
       "3  0.00001  0.998496  0.999998        1.0  0.996997    0  332   0  553177   1  \\\n",
       "\n",
       "        MCC  \n",
       "3  0.998496  "
      ]
     },
     "execution_count": 60,
     "metadata": {},
     "output_type": "execute_result"
    }
   ],
   "source": [
    "pdbe_evalues_row"
   ]
  },
  {
   "cell_type": "code",
   "execution_count": 61,
   "metadata": {},
   "outputs": [
    {
     "data": {
      "text/html": [
       "<div>\n",
       "<style scoped>\n",
       "    .dataframe tbody tr th:only-of-type {\n",
       "        vertical-align: middle;\n",
       "    }\n",
       "\n",
       "    .dataframe tbody tr th {\n",
       "        vertical-align: top;\n",
       "    }\n",
       "\n",
       "    .dataframe thead th {\n",
       "        text-align: right;\n",
       "    }\n",
       "</style>\n",
       "<table border=\"1\" class=\"dataframe\">\n",
       "  <thead>\n",
       "    <tr style=\"text-align: right;\">\n",
       "      <th></th>\n",
       "      <th>evalue</th>\n",
       "      <th>f1</th>\n",
       "      <th>accuracy</th>\n",
       "      <th>precision</th>\n",
       "      <th>recall</th>\n",
       "      <th>mcc</th>\n",
       "      <th>TP</th>\n",
       "      <th>FP</th>\n",
       "      <th>TN</th>\n",
       "      <th>FN</th>\n",
       "      <th>MCC</th>\n",
       "    </tr>\n",
       "  </thead>\n",
       "  <tbody>\n",
       "    <tr>\n",
       "      <th>3</th>\n",
       "      <td>0.00001</td>\n",
       "      <td>0.998492</td>\n",
       "      <td>0.999998</td>\n",
       "      <td>1.0</td>\n",
       "      <td>0.996988</td>\n",
       "      <td>0</td>\n",
       "      <td>331</td>\n",
       "      <td>0</td>\n",
       "      <td>553177</td>\n",
       "      <td>1</td>\n",
       "      <td>0.998492</td>\n",
       "    </tr>\n",
       "  </tbody>\n",
       "</table>\n",
       "</div>"
      ],
      "text/plain": [
       "    evalue        f1  accuracy  precision    recall  mcc   TP  FP      TN  FN   \n",
       "3  0.00001  0.998492  0.999998        1.0  0.996988    0  331   0  553177   1  \\\n",
       "\n",
       "        MCC  \n",
       "3  0.998492  "
      ]
     },
     "execution_count": 61,
     "metadata": {},
     "output_type": "execute_result"
    }
   ],
   "source": [
    "foldseek_evalues_row"
   ]
  },
  {
   "cell_type": "code",
   "execution_count": 62,
   "metadata": {},
   "outputs": [
    {
     "data": {
      "text/html": [
       "<div>\n",
       "<style scoped>\n",
       "    .dataframe tbody tr th:only-of-type {\n",
       "        vertical-align: middle;\n",
       "    }\n",
       "\n",
       "    .dataframe tbody tr th {\n",
       "        vertical-align: top;\n",
       "    }\n",
       "\n",
       "    .dataframe thead th {\n",
       "        text-align: right;\n",
       "    }\n",
       "</style>\n",
       "<table border=\"1\" class=\"dataframe\">\n",
       "  <thead>\n",
       "    <tr style=\"text-align: right;\">\n",
       "      <th></th>\n",
       "      <th>evalue</th>\n",
       "      <th>f1</th>\n",
       "      <th>accuracy</th>\n",
       "      <th>precision</th>\n",
       "      <th>recall</th>\n",
       "      <th>mcc</th>\n",
       "      <th>TP</th>\n",
       "      <th>FP</th>\n",
       "      <th>TN</th>\n",
       "      <th>FN</th>\n",
       "      <th>MCC</th>\n",
       "    </tr>\n",
       "  </thead>\n",
       "  <tbody>\n",
       "    <tr>\n",
       "      <th>3</th>\n",
       "      <td>0.00001</td>\n",
       "      <td>0.998487</td>\n",
       "      <td>0.999998</td>\n",
       "      <td>1.0</td>\n",
       "      <td>0.996979</td>\n",
       "      <td>0.0</td>\n",
       "      <td>330</td>\n",
       "      <td>0</td>\n",
       "      <td>553177</td>\n",
       "      <td>1</td>\n",
       "      <td>0.998487</td>\n",
       "    </tr>\n",
       "  </tbody>\n",
       "</table>\n",
       "</div>"
      ],
      "text/plain": [
       "    evalue        f1  accuracy  precision    recall  mcc   TP  FP      TN  FN   \n",
       "3  0.00001  0.998487  0.999998        1.0  0.996979  0.0  330   0  553177   1  \\\n",
       "\n",
       "        MCC  \n",
       "3  0.998487  "
      ]
     },
     "execution_count": 62,
     "metadata": {},
     "output_type": "execute_result"
    }
   ],
   "source": [
    "dali_evalues_row"
   ]
  },
  {
   "cell_type": "code",
   "execution_count": 63,
   "metadata": {},
   "outputs": [
    {
     "data": {
      "text/html": [
       "<div>\n",
       "<style scoped>\n",
       "    .dataframe tbody tr th:only-of-type {\n",
       "        vertical-align: middle;\n",
       "    }\n",
       "\n",
       "    .dataframe tbody tr th {\n",
       "        vertical-align: top;\n",
       "    }\n",
       "\n",
       "    .dataframe thead th {\n",
       "        text-align: right;\n",
       "    }\n",
       "</style>\n",
       "<table border=\"1\" class=\"dataframe\">\n",
       "  <thead>\n",
       "    <tr style=\"text-align: right;\">\n",
       "      <th></th>\n",
       "      <th>evalue</th>\n",
       "      <th>f1</th>\n",
       "      <th>accuracy</th>\n",
       "      <th>precision</th>\n",
       "      <th>recall</th>\n",
       "      <th>mcc</th>\n",
       "      <th>TP</th>\n",
       "      <th>FP</th>\n",
       "      <th>TN</th>\n",
       "      <th>FN</th>\n",
       "      <th>MCC</th>\n",
       "    </tr>\n",
       "  </thead>\n",
       "  <tbody>\n",
       "    <tr>\n",
       "      <th>3</th>\n",
       "      <td>0.00001</td>\n",
       "      <td>0.998514</td>\n",
       "      <td>0.999998</td>\n",
       "      <td>1.0</td>\n",
       "      <td>0.997033</td>\n",
       "      <td>0.0</td>\n",
       "      <td>336</td>\n",
       "      <td>0</td>\n",
       "      <td>553177</td>\n",
       "      <td>1</td>\n",
       "      <td>0.998514</td>\n",
       "    </tr>\n",
       "  </tbody>\n",
       "</table>\n",
       "</div>"
      ],
      "text/plain": [
       "    evalue        f1  accuracy  precision    recall  mcc   TP  FP      TN  FN   \n",
       "3  0.00001  0.998514  0.999998        1.0  0.997033  0.0  336   0  553177   1  \\\n",
       "\n",
       "        MCC  \n",
       "3  0.998514  "
      ]
     },
     "execution_count": 63,
     "metadata": {},
     "output_type": "execute_result"
    }
   ],
   "source": [
    "intersection_evalues_row"
   ]
  },
  {
   "cell_type": "code",
   "execution_count": 57,
   "metadata": {},
   "outputs": [
    {
     "data": {
      "text/html": [
       "<div>\n",
       "<style scoped>\n",
       "    .dataframe tbody tr th:only-of-type {\n",
       "        vertical-align: middle;\n",
       "    }\n",
       "\n",
       "    .dataframe tbody tr th {\n",
       "        vertical-align: top;\n",
       "    }\n",
       "\n",
       "    .dataframe thead th {\n",
       "        text-align: right;\n",
       "    }\n",
       "</style>\n",
       "<table border=\"1\" class=\"dataframe\">\n",
       "  <thead>\n",
       "    <tr style=\"text-align: right;\">\n",
       "      <th></th>\n",
       "      <th>evalue</th>\n",
       "      <th>f1</th>\n",
       "      <th>accuracy</th>\n",
       "      <th>precision</th>\n",
       "      <th>recall</th>\n",
       "      <th>mcc</th>\n",
       "      <th>TP</th>\n",
       "      <th>FP</th>\n",
       "      <th>TN</th>\n",
       "      <th>FN</th>\n",
       "      <th>MCC</th>\n",
       "    </tr>\n",
       "  </thead>\n",
       "  <tbody>\n",
       "    <tr>\n",
       "      <th>4</th>\n",
       "      <td>0.000001</td>\n",
       "      <td>0.998487</td>\n",
       "      <td>0.999998</td>\n",
       "      <td>1.0</td>\n",
       "      <td>0.996979</td>\n",
       "      <td>0.0</td>\n",
       "      <td>330</td>\n",
       "      <td>0</td>\n",
       "      <td>553177</td>\n",
       "      <td>1</td>\n",
       "      <td>0.998487</td>\n",
       "    </tr>\n",
       "  </tbody>\n",
       "</table>\n",
       "</div>"
      ],
      "text/plain": [
       "     evalue        f1  accuracy  precision    recall  mcc   TP  FP      TN   \n",
       "4  0.000001  0.998487  0.999998        1.0  0.996979  0.0  330   0  553177  \\\n",
       "\n",
       "   FN       MCC  \n",
       "4   1  0.998487  "
      ]
     },
     "execution_count": 57,
     "metadata": {},
     "output_type": "execute_result"
    }
   ],
   "source": [
    "union_evalues_row"
   ]
  }
 ],
 "metadata": {
  "kernelspec": {
   "display_name": "Python 3",
   "language": "python",
   "name": "python3"
  },
  "language_info": {
   "codemirror_mode": {
    "name": "ipython",
    "version": 3
   },
   "file_extension": ".py",
   "mimetype": "text/x-python",
   "name": "python",
   "nbconvert_exporter": "python",
   "pygments_lexer": "ipython3",
   "version": "3.11.3"
  },
  "orig_nbformat": 4
 },
 "nbformat": 4,
 "nbformat_minor": 2
}
